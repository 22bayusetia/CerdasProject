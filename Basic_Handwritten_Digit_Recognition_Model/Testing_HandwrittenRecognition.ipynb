{
  "nbformat": 4,
  "nbformat_minor": 0,
  "metadata": {
    "colab": {
      "provenance": []
    },
    "kernelspec": {
      "name": "python3",
      "display_name": "Python 3"
    },
    "language_info": {
      "name": "python"
    },
    "widgets": {
      "application/vnd.jupyter.widget-state+json": {
        "c3929d0da6bb4f6e89ff5d1f366eb847": {
          "model_module": "@jupyter-widgets/controls",
          "model_name": "FileUploadModel",
          "model_module_version": "1.5.0",
          "state": {
            "_counter": 1,
            "_dom_classes": [],
            "_model_module": "@jupyter-widgets/controls",
            "_model_module_version": "1.5.0",
            "_model_name": "FileUploadModel",
            "_view_count": null,
            "_view_module": "@jupyter-widgets/controls",
            "_view_module_version": "1.5.0",
            "_view_name": "FileUploadView",
            "accept": ".png,.jpg,.jpeg",
            "button_style": "",
            "data": [
              null
            ],
            "description": "Upload Image",
            "description_tooltip": null,
            "disabled": false,
            "error": "",
            "icon": "upload",
            "layout": "IPY_MODEL_eb48a076f0c840e68e1db603a1ff36ab",
            "metadata": [
              {
                "name": "images (1).png",
                "type": "image/png",
                "size": 2878,
                "lastModified": 1703272435427
              }
            ],
            "multiple": false,
            "style": "IPY_MODEL_7a28ddd606b442e7a04c0a9b334fb0ab"
          }
        },
        "eb48a076f0c840e68e1db603a1ff36ab": {
          "model_module": "@jupyter-widgets/base",
          "model_name": "LayoutModel",
          "model_module_version": "1.2.0",
          "state": {
            "_model_module": "@jupyter-widgets/base",
            "_model_module_version": "1.2.0",
            "_model_name": "LayoutModel",
            "_view_count": null,
            "_view_module": "@jupyter-widgets/base",
            "_view_module_version": "1.2.0",
            "_view_name": "LayoutView",
            "align_content": null,
            "align_items": null,
            "align_self": null,
            "border": null,
            "bottom": null,
            "display": null,
            "flex": null,
            "flex_flow": null,
            "grid_area": null,
            "grid_auto_columns": null,
            "grid_auto_flow": null,
            "grid_auto_rows": null,
            "grid_column": null,
            "grid_gap": null,
            "grid_row": null,
            "grid_template_areas": null,
            "grid_template_columns": null,
            "grid_template_rows": null,
            "height": null,
            "justify_content": null,
            "justify_items": null,
            "left": null,
            "margin": null,
            "max_height": null,
            "max_width": null,
            "min_height": null,
            "min_width": null,
            "object_fit": null,
            "object_position": null,
            "order": null,
            "overflow": null,
            "overflow_x": null,
            "overflow_y": null,
            "padding": null,
            "right": null,
            "top": null,
            "visibility": null,
            "width": null
          }
        },
        "7a28ddd606b442e7a04c0a9b334fb0ab": {
          "model_module": "@jupyter-widgets/controls",
          "model_name": "ButtonStyleModel",
          "model_module_version": "1.5.0",
          "state": {
            "_model_module": "@jupyter-widgets/controls",
            "_model_module_version": "1.5.0",
            "_model_name": "ButtonStyleModel",
            "_view_count": null,
            "_view_module": "@jupyter-widgets/base",
            "_view_module_version": "1.2.0",
            "_view_name": "StyleView",
            "button_color": null,
            "font_weight": ""
          }
        }
      }
    }
  },
  "cells": [
    {
      "cell_type": "markdown",
      "source": [
        "**Test the Model Accuracy**"
      ],
      "metadata": {
        "id": "dtM_sofJe3Le"
      }
    },
    {
      "cell_type": "markdown",
      "source": [
        "Import Necessary Libraries"
      ],
      "metadata": {
        "id": "JtSIMTiTlwV6"
      }
    },
    {
      "cell_type": "code",
      "execution_count": 44,
      "metadata": {
        "id": "KlQh39DLOID1"
      },
      "outputs": [],
      "source": [
        "import tensorflow as tf\n",
        "from tensorflow.keras.models import load_model\n",
        "import matplotlib.pyplot as plt\n",
        "import requests\n",
        "import numpy as np\n",
        "from google.colab import files\n",
        "from IPython.display import display, Javascript\n",
        "import io\n",
        "import ipywidgets as widgets"
      ]
    },
    {
      "cell_type": "markdown",
      "source": [
        "Set Raw Model URL"
      ],
      "metadata": {
        "id": "IoS9a4Telyr1"
      }
    },
    {
      "cell_type": "code",
      "source": [
        "raw_model_url = 'https://raw.githubusercontent.com/22bayusetia/CerdasProject/main/Model_File/handwritten_trained.h5'"
      ],
      "metadata": {
        "id": "fMsQBh34PS99"
      },
      "execution_count": 45,
      "outputs": []
    },
    {
      "cell_type": "markdown",
      "source": [
        "Download the Model File"
      ],
      "metadata": {
        "id": "P4VHBOpWl27y"
      }
    },
    {
      "cell_type": "code",
      "source": [
        "# Downloading the model file\n",
        "r = requests.get(raw_model_url, allow_redirects=True)\n",
        "open('downloaded_model.h5', 'wb').write(r.content)\n",
        "\n",
        "# Define the path to save the model file\n",
        "model_path = 'handwritten_trained.h5'"
      ],
      "metadata": {
        "id": "dPwgMQ1PYScU"
      },
      "execution_count": 46,
      "outputs": []
    },
    {
      "cell_type": "markdown",
      "source": [
        "Load the Pre-trained Model"
      ],
      "metadata": {
        "id": "LqTFUyPpmKit"
      }
    },
    {
      "cell_type": "code",
      "source": [
        "from tensorflow.keras.models import load_model\n",
        "\n",
        "# Load the pre-trained model\n",
        "loaded_model = load_model('downloaded_model.h5')"
      ],
      "metadata": {
        "id": "BlfxrxoGaEj9"
      },
      "execution_count": 47,
      "outputs": []
    },
    {
      "cell_type": "markdown",
      "source": [
        "Upload Image for Prediction"
      ],
      "metadata": {
        "id": "gyGbShf9mPLq"
      }
    },
    {
      "cell_type": "code",
      "source": [
        "# Function to prepare the uploaded image for prediction\n",
        "def prepare_uploaded_image(uploaded_file):\n",
        "    img = tf.keras.preprocessing.image.load_img(uploaded_file, target_size=(28, 28), color_mode='grayscale')\n",
        "    img_array = tf.keras.preprocessing.image.img_to_array(img)\n",
        "    img_array = img_array / 255.0  # Normalize the image\n",
        "    return np.expand_dims(img_array, axis=0)\n",
        "\n",
        "# Function to handle file upload and prediction\n",
        "def handle_file_upload(change):\n",
        "    uploaded_file = io.BytesIO(list(upload_button.value.values())[0]['content'])\n",
        "    new_image = prepare_uploaded_image(uploaded_file)\n",
        "    predictions = loaded_model.predict(new_image)\n",
        "    predicted_label = np.argmax(predictions)\n",
        "\n",
        "    # Display the uploaded image and prediction\n",
        "    plt.imshow(np.squeeze(new_image), cmap=plt.cm.binary)\n",
        "    plt.title(f'Predicted Digit: {predicted_label}')\n",
        "    plt.axis('off')\n",
        "    plt.show()\n",
        "\n",
        "    # Clear the output to avoid displaying the image twice\n",
        "    upload_button.value.clear()\n",
        "\n",
        "# Create a button for file upload\n",
        "upload_button = widgets.FileUpload(accept='.png,.jpg,.jpeg', description='Upload Image')\n",
        "\n",
        "# Display the upload button\n",
        "display(upload_button)\n",
        "\n",
        "# Handle the upload button's interaction\n",
        "upload_button.observe(handle_file_upload, names='value')"
      ],
      "metadata": {
        "colab": {
          "base_uri": "https://localhost:8080/",
          "height": 478,
          "referenced_widgets": [
            "c3929d0da6bb4f6e89ff5d1f366eb847",
            "eb48a076f0c840e68e1db603a1ff36ab",
            "7a28ddd606b442e7a04c0a9b334fb0ab"
          ]
        },
        "id": "-0Ym1a1Ka3SE",
        "outputId": "f5e7dccf-caba-4e9d-c78c-344f5bfe0c8b"
      },
      "execution_count": 49,
      "outputs": [
        {
          "output_type": "display_data",
          "data": {
            "text/plain": [
              "FileUpload(value={}, accept='.png,.jpg,.jpeg', description='Upload Image')"
            ],
            "application/vnd.jupyter.widget-view+json": {
              "version_major": 2,
              "version_minor": 0,
              "model_id": "c3929d0da6bb4f6e89ff5d1f366eb847"
            }
          },
          "metadata": {}
        },
        {
          "output_type": "stream",
          "name": "stdout",
          "text": [
            "1/1 [==============================] - 0s 20ms/step\n"
          ]
        },
        {
          "output_type": "display_data",
          "data": {
            "text/plain": [
              "<Figure size 640x480 with 1 Axes>"
            ],
            "image/png": "[encoded data removed]"
          },
          "metadata": {}
        }
      ]
    }
  ]
}